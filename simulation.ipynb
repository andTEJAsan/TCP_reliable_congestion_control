{
 "cells": [
  {
   "cell_type": "code",
   "execution_count": 4,
   "metadata": {},
   "outputs": [
    {
     "name": "stdout",
     "output_type": "stream",
     "text": [
      "stats: 0  iterations,  7  requests made,  1  failed. missed_set size:  617\n",
      "689  requests made,  66  failed.\n"
     ]
    },
    {
     "ename": "NameError",
     "evalue": "name 'teamid' is not defined",
     "output_type": "error",
     "traceback": [
      "\u001b[0;31m---------------------------------------------------------------------------\u001b[0m",
      "\u001b[0;31mNameError\u001b[0m                                 Traceback (most recent call last)",
      "\u001b[1;32m/Users/tejas/Desktop/resources_/Sem 5/COL334/reliable_file_transfer_protocol/simulation.ipynb Cell 1\u001b[0m line \u001b[0;36m1\n\u001b[0;32m----> <a href='vscode-notebook-cell:/Users/tejas/Desktop/resources_/Sem%205/COL334/reliable_file_transfer_protocol/simulation.ipynb#W0sZmlsZQ%3D%3D?line=0'>1</a>\u001b[0m \u001b[39mfrom\u001b[39;00m \u001b[39mclient\u001b[39;00m \u001b[39mimport\u001b[39;00m \u001b[39m*\u001b[39m\n\u001b[1;32m      <a href='vscode-notebook-cell:/Users/tejas/Desktop/resources_/Sem%205/COL334/reliable_file_transfer_protocol/simulation.ipynb#W0sZmlsZQ%3D%3D?line=1'>2</a>\u001b[0m entry_number \u001b[39m=\u001b[39m \u001b[39m\"\u001b[39m\u001b[39m2021CS10556\u001b[39m\u001b[39m\"\u001b[39m;\n\u001b[1;32m      <a href='vscode-notebook-cell:/Users/tejas/Desktop/resources_/Sem%205/COL334/reliable_file_transfer_protocol/simulation.ipynb#W0sZmlsZQ%3D%3D?line=2'>3</a>\u001b[0m team_name \u001b[39m=\u001b[39m \u001b[39m\"\u001b[39m\u001b[39mmajorlazor\u001b[39m\u001b[39m\"\u001b[39m;\n",
      "File \u001b[0;32m~/Desktop/resources_/Sem 5/COL334/reliable_file_transfer_protocol/client.py:364\u001b[0m\n\u001b[1;32m    362\u001b[0m     result \u001b[39m=\u001b[39m result\u001b[39m.\u001b[39mdecode();\n\u001b[1;32m    363\u001b[0m     \u001b[39mreturn\u001b[39;00m result;\n\u001b[0;32m--> 364\u001b[0m \u001b[39mprint\u001b[39m(submit_data(sock, complete_file));   \n\u001b[1;32m    365\u001b[0m \u001b[39mprint\u001b[39m(\u001b[39m\"\u001b[39m\u001b[39mtotal time taken: \u001b[39m\u001b[39m\"\u001b[39m,time_taken); \n\u001b[1;32m    368\u001b[0m \u001b[39m# In[124]:\u001b[39;00m\n",
      "File \u001b[0;32m~/Desktop/resources_/Sem 5/COL334/reliable_file_transfer_protocol/client.py:354\u001b[0m, in \u001b[0;36msubmit_data\u001b[0;34m(s, complete_data)\u001b[0m\n\u001b[1;32m    352\u001b[0m \u001b[39mdef\u001b[39;00m \u001b[39msubmit_data\u001b[39m(s:socket\u001b[39m.\u001b[39msocket, complete_data):\n\u001b[1;32m    353\u001b[0m     md5 \u001b[39m=\u001b[39m hashlib\u001b[39m.\u001b[39mmd5(complete_data\u001b[39m.\u001b[39mencode())\u001b[39m.\u001b[39mhexdigest();\n\u001b[0;32m--> 354\u001b[0m     submit_val \u001b[39m=\u001b[39m \u001b[39m\"\u001b[39m\u001b[39mSubmit: \u001b[39m\u001b[39m\"\u001b[39m \u001b[39m+\u001b[39m teamid \u001b[39m+\u001b[39m \u001b[39m\"\u001b[39m\u001b[39m\\n\u001b[39;00m\u001b[39m\"\u001b[39m \u001b[39m+\u001b[39m \u001b[39m\"\u001b[39m\u001b[39mMD5: \u001b[39m\u001b[39m\"\u001b[39m \u001b[39m+\u001b[39m md5 \u001b[39m+\u001b[39m \u001b[39m\"\u001b[39m\u001b[39m\\n\u001b[39;00m\u001b[39m\\n\u001b[39;00m\u001b[39m\"\u001b[39m;\n\u001b[1;32m    355\u001b[0m     s\u001b[39m.\u001b[39msendto((submit_val)\u001b[39m.\u001b[39mencode(), (url, port));\n\u001b[1;32m    356\u001b[0m     \u001b[39mwhile\u001b[39;00m(\u001b[39mTrue\u001b[39;00m):\n",
      "\u001b[0;31mNameError\u001b[0m: name 'teamid' is not defined"
     ]
    }
   ],
   "source": [
    "from client import *\n",
    "entry_number = \"2021CS10556\";\n",
    "team_name = \"majorlazor\";\n",
    "teamid = entry_number + \"@\" + team_name;\n"
   ]
  },
  {
   "cell_type": "code",
   "execution_count": null,
   "metadata": {},
   "outputs": [],
   "source": [
    "url = \"10.194.48.73\"; \n",
    "max_bytes = 1448; \n",
    "max_bytes_with_headers = 2048;\n",
    "chunk_size = 1448;\n",
    "port = 9801; \n",
    "time_out = 0.02; \n",
    "sock = socket.socket(socket.AF_INET, socket.SOCK_DGRAM) # internet and UDP\n",
    "sock.setblocking(0); #non-blocking\n",
    "sock.settimeout(time_out);"
   ]
  },
  {
   "cell_type": "code",
   "execution_count": null,
   "metadata": {},
   "outputs": [],
   "source": [
    "complete_file, request_arr, receive_arr, time_taken = bursty_reliable_data_transfer(sock,sleep_time=0.05,initial_burst_rate=7);\n",
    "print(submit_data(sock, complete_file));   \n",
    "print(\"total time taken: \",time_taken); "
   ]
  },
  {
   "cell_type": "code",
   "execution_count": null,
   "metadata": {},
   "outputs": [],
   "source": [
    "try:\n",
    "    print(get_received_data(sock, 1800));\n",
    "except Exception as e:\n",
    "    print(e); "
   ]
  }
 ],
 "metadata": {
  "kernelspec": {
   "display_name": "base",
   "language": "python",
   "name": "python3"
  },
  "language_info": {
   "codemirror_mode": {
    "name": "ipython",
    "version": 3
   },
   "file_extension": ".py",
   "mimetype": "text/x-python",
   "name": "python",
   "nbconvert_exporter": "python",
   "pygments_lexer": "ipython3",
   "version": "3.10.12"
  }
 },
 "nbformat": 4,
 "nbformat_minor": 2
}
